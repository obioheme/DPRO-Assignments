{
 "cells": [
  {
   "cell_type": "markdown",
   "id": "6be7e5de",
   "metadata": {},
   "source": [
    "# Implementation of Matrix Product"
   ]
  },
  {
   "cell_type": "code",
   "execution_count": 2,
   "id": "8e024431",
   "metadata": {},
   "outputs": [],
   "source": [
    "import numpy as np\n",
    "import matplotlib.pyplot as plt\n"
   ]
  },
  {
   "cell_type": "markdown",
   "id": "1c07a4f7",
   "metadata": {},
   "source": [
    "### Problem 1: Manual Calculation of Matrix Product"
   ]
  },
  {
   "cell_type": "markdown",
   "id": "011ee7da",
   "metadata": {},
   "source": [
    "#### Let the first matrix be: \n",
    "$ A = \\begin{bmatrix} \n",
    "\ta & b & c\\\\\n",
    "\td & e & f\\\\\n",
    "\tg & h & i\n",
    "\t\\end{bmatrix} $\n",
    "#### Let the  second matrix be: \n",
    "$ B = \\begin{bmatrix} \n",
    "\tr & s & t\\\\\n",
    "\tu & v & w\\\\\n",
    "\tx & y & z\n",
    "\t\\end{bmatrix} $\n",
    "#### The product of A and B will be: \n",
    "$ A x B = \\begin{bmatrix} \n",
    "\tar + bu + cx & as + bv + cy & at + bw + cz\\\\\n",
    "\tdr + eu + fx & ds + ev + fy & dt + ew + fz\\\\\n",
    "\tgr + hu + ix & gs + hv + iy & gt + hw + iz\n",
    "\t\\end{bmatrix} $\n",
    "\n",
    "#### ==> : \n",
    "$ A x B = \\begin{bmatrix} \n",
    "\t(-1\\cdot0)+(2\\cdot0)+(3\\cdot2) & (-1\\cdot2)+(2\\cdot2)+(3\\cdot9) & (-1\\cdot1)+(2\\cdot-8)+(3\\cdot-1)\\\\\n",
    "\t(4\\cdot0)+(-5\\cdot0)+(6\\cdot2) & (4\\cdot2)+(-5\\cdot2)+(6\\cdot9) & (4\\cdot1)+(-5\\cdot-8)+(6\\cdot-1)\\\\\n",
    "\t(7\\cdot0)+(8\\cdot0)+(9\\cdot2) & (7\\cdot2)+(8\\cdot2)+(9\\cdot9) & (7\\cdot1)+(8\\cdot-8)+(9\\cdot-1)\n",
    "\t\\end{bmatrix} $\n",
    "\n",
    "#### ==> : \n",
    "$ A x B = \\begin{bmatrix} \n",
    "\t6 & 29 & -20\\\\\n",
    "\t12 & 52 & 38\\\\\n",
    "\t18 & 111 & -66\n",
    "\t\\end{bmatrix} $"
   ]
  },
  {
   "cell_type": "markdown",
   "id": "466c4118",
   "metadata": {},
   "source": [
    "### Problem 2: Calculate Numpy by Function"
   ]
  },
  {
   "cell_type": "code",
   "execution_count": 21,
   "id": "aa44542e",
   "metadata": {},
   "outputs": [
    {
     "data": {
      "text/plain": [
       "array([[  6,  29, -20],\n",
       "       [ 12,  52,  38],\n",
       "       [ 18, 111, -66]])"
      ]
     },
     "execution_count": 21,
     "metadata": {},
     "output_type": "execute_result"
    }
   ],
   "source": [
    "A = np.array([[-1, 2, 3], [4, -5, 6], [7, 8, 9]])\n",
    "B = np.array([[0, 2, 1], [0, 2, -8], [2, 9, -1]])\n",
    "\n",
    "product1 = np.matmul(A, B)\n",
    "product2 = np.dot(A, B)\n",
    "product3 = A @ B\n",
    "\n",
    "#product1\n",
    "#product2\n",
    "product3"
   ]
  },
  {
   "cell_type": "markdown",
   "id": "2305e4c9",
   "metadata": {},
   "source": [
    "### Problem 3: Implementation of Calculation of a Certain Element"
   ]
  },
  {
   "cell_type": "code",
   "execution_count": 45,
   "id": "e5b0ec6d",
   "metadata": {},
   "outputs": [
    {
     "data": {
      "text/plain": [
       "6"
      ]
     },
     "execution_count": 45,
     "metadata": {},
     "output_type": "execute_result"
    }
   ],
   "source": [
    "i = 0\n",
    "j = 0\n",
    "element =  np.sum(A[i, :]* B[:, j])\n",
    "element"
   ]
  },
  {
   "cell_type": "markdown",
   "id": "fb452d00",
   "metadata": {},
   "source": [
    "### Problem 4: Creating a Function that solves Matrix Multiplication"
   ]
  },
  {
   "cell_type": "code",
   "execution_count": 47,
   "id": "c961240a",
   "metadata": {},
   "outputs": [
    {
     "data": {
      "text/plain": [
       "array([[  6,  29, -20],\n",
       "       [ 12,  52,  38],\n",
       "       [ 18, 111, -66]])"
      ]
     },
     "execution_count": 47,
     "metadata": {},
     "output_type": "execute_result"
    }
   ],
   "source": [
    "def calculate_Product(matrixA, matrixB):\n",
    "    ### Matrix can only be multiplied if the number of rows in matrix A is equal to the number of columns in matrix B. so get the number and stor in a new variable\n",
    "    rows = matrixA.shape[0]\n",
    "    col = matrixB.shape[1]\n",
    "    \n",
    "    #create a list to store elements in array\n",
    "    list = []\n",
    "    if rows==col:\n",
    "        for i in range(rows):\n",
    "            for j in range(col):\n",
    "                element = np.sum(matrixA[i, :] * matrixB[:, j].T)\n",
    "                list.append(element)\n",
    "\n",
    "        product = np.array(list).reshape(rows, col)\n",
    "        return product\n",
    "    else: \n",
    "        print(\"Product cannot be calculated as rows in matrix 1 is not equal to columns in matrix 2.\")\n",
    "\n",
    "calculate_Product(matrixA=A, matrixB=B)"
   ]
  },
  {
   "cell_type": "markdown",
   "id": "ec9566ad",
   "metadata": {},
   "source": [
    "### Problem 5: Judge the Input whose Output is not Defined"
   ]
  },
  {
   "cell_type": "code",
   "execution_count": 48,
   "id": "3898a029",
   "metadata": {},
   "outputs": [
    {
     "name": "stdout",
     "output_type": "stream",
     "text": [
      "Product cannot be calculated as rows in matrix 1 is not equal to columns in matrix 2.\n"
     ]
    }
   ],
   "source": [
    "D = np.array([[-1, 2, 3], [4, 5, 6]])\n",
    "E = np.array([[-9, 8, 7], [6, -5, 4]])\n",
    "\n",
    "calculate_Product(D, E)"
   ]
  },
  {
   "cell_type": "markdown",
   "id": "1f2cc80a",
   "metadata": {},
   "source": [
    "### Problem 6: Transposition"
   ]
  },
  {
   "cell_type": "code",
   "execution_count": 51,
   "id": "a1505932",
   "metadata": {},
   "outputs": [
    {
     "data": {
      "text/plain": [
       "array([[ 14,  69, -40],\n",
       "       [ 16,  66,  34],\n",
       "       [ 18,  99, -54]])"
      ]
     },
     "execution_count": 51,
     "metadata": {},
     "output_type": "execute_result"
    }
   ],
   "source": [
    "A_transpose = A.T\n",
    "A_transpose\n",
    "\n",
    "calculate_Product(A_transpose, B)"
   ]
  }
 ],
 "metadata": {
  "kernelspec": {
   "display_name": "Python 3 (ipykernel)",
   "language": "python",
   "name": "python3"
  },
  "language_info": {
   "codemirror_mode": {
    "name": "ipython",
    "version": 3
   },
   "file_extension": ".py",
   "mimetype": "text/x-python",
   "name": "python",
   "nbconvert_exporter": "python",
   "pygments_lexer": "ipython3",
   "version": "3.9.13"
  }
 },
 "nbformat": 4,
 "nbformat_minor": 5
}
