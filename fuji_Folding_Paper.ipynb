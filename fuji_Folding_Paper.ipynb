{
 "cells": [
  {
   "cell_type": "markdown",
   "id": "60dc89c9",
   "metadata": {},
   "source": [
    "# Mt. Fuji Paper Folding Problem"
   ]
  },
  {
   "cell_type": "code",
   "execution_count": 1,
   "id": "329b0c6f",
   "metadata": {},
   "outputs": [],
   "source": [
    "t0 = 0.00008"
   ]
  },
  {
   "cell_type": "code",
   "execution_count": 7,
   "id": "f8687054",
   "metadata": {},
   "outputs": [
    {
     "name": "stdout",
     "output_type": "stream",
     "text": [
      "The minimum number of folds required to exceed Mt. Fuji is 26 folds with a thickness of 5368.70912m.\n"
     ]
    }
   ],
   "source": [
    "#Program to calculate minimum number of times to fold paper to exceed mount fuji\n",
    "\n",
    "def number_of_paper_folds():\n",
    "    Mt_fuji = 3776\n",
    "    number_of_folds = 0\n",
    "    thicknesses = t0\n",
    "    while thicknesses <= Mt_fuji:\n",
    "        thicknesses *= 2\n",
    "        number_of_folds += 1\n",
    "    print(f\"The minimum number of folds required to exceed Mt. Fuji is {number_of_folds} folds with a thickness of {thicknesses}m.\")\n",
    "\n",
    "number_of_paper_folds()"
   ]
  },
  {
   "cell_type": "code",
   "execution_count": 10,
   "id": "5da16bdd",
   "metadata": {},
   "outputs": [
    {
     "name": "stdout",
     "output_type": "stream",
     "text": [
      "The minimum number of folds required to exceed 4.0175e+16m is 69 folds with a thickness of 4.7223664828696456e+16m.\n"
     ]
    }
   ],
   "source": [
    "#Minimum number of folds to exceed a certain height\n",
    "\n",
    "def minimum_num_folds(specific_height):\n",
    "    height = specific_height\n",
    "    number_of_folds = 0\n",
    "    thicknesses = t0\n",
    "    while thicknesses <= height:\n",
    "        thicknesses *= 2\n",
    "        number_of_folds += 1\n",
    "    print(f\"The minimum number of folds required to exceed {height}m is {number_of_folds} folds with a thickness of {thicknesses}m.\")\n",
    "\n",
    "minimum_num_folds(specific_height = 4.0175 * (10** 16))"
   ]
  },
  {
   "cell_type": "code",
   "execution_count": 13,
   "id": "7b00931f",
   "metadata": {},
   "outputs": [
    {
     "name": "stdout",
     "output_type": "stream",
     "text": [
      "43\n",
      "The length of paper for thickness of 384400000m and 43 folds is 1.5572617929240601e+34m.\n",
      "26\n",
      "The length of paper for thickness of 3776m and 26 folds is 8.904107648597734e+18m.\n",
      "69\n",
      "The length of paper for thickness of 4.0175e+16m and 69 folds is 7.32983012092758e+57m.\n"
     ]
    }
   ],
   "source": [
    "#Calculate length of paper to fold a paper and reach any thickness\n",
    "import math\n",
    "\n",
    "def paper_length(thickness):\n",
    "    t = thickness\n",
    "    thick = t0\n",
    "    #calculate the number of folds to reach that thickness\n",
    "    n = 0\n",
    "    while thick < t:\n",
    "        thick *= 2\n",
    "        n += 1\n",
    "    print(n)\n",
    "    \n",
    "    #calculate length of paper\n",
    "    l = ((math.pi * t) / 6) * (2**n + 4) * (2**n - 1)\n",
    "    print(f\"The length of paper for thickness of {t}m and {n} folds is {l}m.\")\n",
    "\n",
    "#Calculate length to reach moon in m\n",
    "paper_length(thickness = 384400000)\n",
    "    \n",
    "#Calculate length to reach mount fuji in m\n",
    "paper_length(thickness = 3776)\n",
    "\n",
    "#Calculate length to reach stars in m\n",
    "paper_length(thickness = 4.0175 * (10**16))"
   ]
  },
  {
   "cell_type": "code",
   "execution_count": null,
   "id": "297caa24",
   "metadata": {},
   "outputs": [],
   "source": []
  }
 ],
 "metadata": {
  "kernelspec": {
   "display_name": "Python 3 (ipykernel)",
   "language": "python",
   "name": "python3"
  },
  "language_info": {
   "codemirror_mode": {
    "name": "ipython",
    "version": 3
   },
   "file_extension": ".py",
   "mimetype": "text/x-python",
   "name": "python",
   "nbconvert_exporter": "python",
   "pygments_lexer": "ipython3",
   "version": "3.9.13"
  }
 },
 "nbformat": 4,
 "nbformat_minor": 5
}
