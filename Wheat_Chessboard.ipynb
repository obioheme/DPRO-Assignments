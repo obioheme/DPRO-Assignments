{
 "cells": [
  {
   "cell_type": "markdown",
   "id": "c3e6a292",
   "metadata": {},
   "source": [
    "# Wheat and Chessboard Problem"
   ]
  },
  {
   "cell_type": "code",
   "execution_count": 104,
   "id": "f13ec55d",
   "metadata": {},
   "outputs": [
    {
     "name": "stdout",
     "output_type": "stream",
     "text": [
      "[1, 2, 4, 8]\n",
      "[[1 2]\n",
      " [4 8]]\n"
     ]
    }
   ],
   "source": [
    "#Problem 1\n",
    "import numpy as np\n",
    "import timeit\n",
    "\n",
    "squares = 4\n",
    "board_list = [1]\n",
    "for square in range (squares -1):\n",
    "    board_list.append(2 * board_list[-1])\n",
    "print(board_list)\n",
    "\n",
    "board_array = np.array(board_list).reshape(2, 2)\n",
    "print(board_array)"
   ]
  },
  {
   "cell_type": "code",
   "execution_count": 98,
   "id": "242c0e8c",
   "metadata": {},
   "outputs": [
    {
     "name": "stdout",
     "output_type": "stream",
     "text": [
      "Total number of wheat on a 8x8 chessboard is 1.8446744073709552e+19\n"
     ]
    }
   ],
   "source": [
    "#Problem 2: Calculate total number of wheat on a chessboard\n",
    "def calculate_wheat(length):\n",
    "    squares = length ** 2\n",
    "    num_wheat = 1\n",
    "    count = 1\n",
    "    wheat_list = [1]\n",
    "    while count != squares:\n",
    "        num_wheat *= 2\n",
    "        count += 1\n",
    "        wheat_list.append(num_wheat)\n",
    "    wheat_list = np.array(wheat_list).reshape(8, 8)\n",
    "    total_sum = np.sum(wheat_list)\n",
    "    print(f\"Total number of wheat on a {length}x{length} chessboard is {total_sum}\")\n",
    "    \n",
    "calculate_wheat(length=8)"
   ]
  },
  {
   "cell_type": "code",
   "execution_count": 99,
   "id": "9493f8a2",
   "metadata": {},
   "outputs": [
    {
     "name": "stdout",
     "output_type": "stream",
     "text": [
      "Total number of wheat on a 8x8 chessboard is 1.8446744073709552e+19\n",
      "column list: [9042521604759584.0, 1.808504320951917e+16, 3.617008641903834e+16, 7.234017283807667e+16, 1.4468034567615334e+17, 2.893606913523067e+17, 5.787213827046134e+17, 1.1574427654092268e+18]\n"
     ]
    },
    {
     "data": {
      "image/png": "[encoded data removed]",
      "text/plain": [
       "<Figure size 640x480 with 1 Axes>"
      ]
     },
     "metadata": {},
     "output_type": "display_data"
    }
   ],
   "source": [
    "#Problem 3\n",
    "#calculate number of wheat on a chessboard\n",
    "import matplotlib.pyplot as plt\n",
    "\n",
    "def calculate_wheat(length):\n",
    "    squares = length ** 2\n",
    "    num_wheat = 1\n",
    "    count = 1\n",
    "    wheat_list = [1]\n",
    "    while count != squares:\n",
    "        num_wheat *= 2\n",
    "        count += 1\n",
    "        wheat_list.append(num_wheat)\n",
    "    wheat_list = np.array(wheat_list).reshape(8, 8)\n",
    "    total_sum = np.sum(wheat_list)\n",
    "    print(f\"Total number of wheat on a {length}x{length} chessboard is {total_sum}\")\n",
    "    \n",
    "    #calculate sum of each column and store in a list\n",
    "    col = 0\n",
    "    column_list = []\n",
    "    column_number = [1, 2, 3, 4, 5, 6, 7, 8]\n",
    "    while col < 8:\n",
    "        column = 0\n",
    "        for row in range(0, 8):\n",
    "            column += wheat_list[row][col]\n",
    "            row += 1\n",
    "        col +=1\n",
    "        column /= length\n",
    "        column_list.append(column)\n",
    "     \n",
    "    print(f\"column list: {column_list}\")\n",
    "    \n",
    "    #Plot a bar graph showing \n",
    "    plt.xlabel(\"column\")\n",
    "    plt.ylabel(\"number\")\n",
    "    plt.title(\"number in each column\")\n",
    "    plt.bar(column_number, column_list)\n",
    "    plt.show()\n",
    "    \n",
    "calculate_wheat(length = 8)    "
   ]
  },
  {
   "cell_type": "code",
   "execution_count": 100,
   "id": "aebc1b39",
   "metadata": {},
   "outputs": [
    {
     "name": "stdout",
     "output_type": "stream",
     "text": [
      "Total number of wheat on a 8x8 chessboard is 1.8446744073709552e+19\n"
     ]
    },
    {
     "data": {
      "image/png": "[encoded data removed]",
      "text/plain": [
       "<Figure size 640x480 with 1 Axes>"
      ]
     },
     "metadata": {},
     "output_type": "display_data"
    }
   ],
   "source": [
    "#Problem 4\n",
    "#Visualize number of heat on the chessboard as a heat map\n",
    "import matplotlib.pyplot as plt\n",
    "def calculate_wheat(length):\n",
    "    squares = length **2\n",
    "    num_wheat = 1\n",
    "    count = 1\n",
    "    wheat_list = [1]\n",
    "    while count != squares:\n",
    "        num_wheat *= 2\n",
    "        count += 1\n",
    "        wheat_list.append(num_wheat)\n",
    "    wheat_list = np.array(wheat_list).reshape(8, 8)\n",
    "    total_sum = np.sum(wheat_list)\n",
    "    print(f\"Total number of wheat on a {length}x{length} chessboard is {total_sum}\")\n",
    "    \n",
    "    #Plot a bar graph showing \n",
    "    plt.xlabel(\"column\")\n",
    "    plt.ylabel(\"row\")\n",
    "    plt.title(\"Heatmap\")\n",
    "    plt.pcolor(np.array(wheat_list).reshape(length, length))\n",
    "    plt.show()\n",
    "    \n",
    "calculate_wheat(length = 8)   "
   ]
  },
  {
   "cell_type": "code",
   "execution_count": 101,
   "id": "3f88fbe7",
   "metadata": {},
   "outputs": [
    {
     "name": "stdout",
     "output_type": "stream",
     "text": [
      "The number of wheat in the second half is greater than that of the first half by 4294967296.0 times.\n"
     ]
    }
   ],
   "source": [
    "#Problem 5\n",
    "#Calculate how many times the number of wheat in the second half is greater that the number of wheat in the first half\n",
    "\n",
    "def calculate_number_wheat(length):\n",
    "    squares = length ** 2\n",
    "    num_wheat = 1\n",
    "    count = 1\n",
    "    wheat_list = [1]\n",
    "    while count != squares:\n",
    "        num_wheat *= 2\n",
    "        count += 1\n",
    "        wheat_list.append(num_wheat)\n",
    "    wheat_list = np.array(wheat_list).reshape(8, 8)\n",
    "    #Calculates sum of elements in the first half\n",
    "    sum_first_half = np.sum(wheat_list[:4][:])\n",
    "    #calculates sum of elements in the second half\n",
    "    sum_second_half = np.sum(wheat_list[4:][:])\n",
    "    #calculate how many times the second half is more than the first\n",
    "    ratio = sum_second_half / sum_first_half\n",
    "    \n",
    "    print(f\"The number of wheat in the second half is greater than that of the first half by {ratio} times.\")\n",
    "\n",
    "calculate_number_wheat(length=8)"
   ]
  },
  {
   "cell_type": "code",
   "execution_count": 114,
   "id": "f7ad9ad9",
   "metadata": {},
   "outputs": [
    {
     "name": "stdout",
     "output_type": "stream",
     "text": [
      "Total number of wheat on a 8x8 chessboard is 18446744073709551615 using np.append method\n",
      "Total number of wheat on a 8x8 chessboard is 18446744073709551615 using broadcast method\n"
     ]
    }
   ],
   "source": [
    "#Problem 6\n",
    "\n",
    "#Calculate total number of wheat on a chessboard using np.append\n",
    "def calculate_wheat_npappend(length):\n",
    "    squares = length ** 2\n",
    "    wheat_list = np.array([1])\n",
    "    for _ in range(squares - 1):\n",
    "        wheat_list = np.append(wheat_list, 2*wheat_list[-1]).astype(np.uint64)\n",
    "    total_wheat = np.sum(wheat_list)\n",
    "    print(f\"Total number of wheat on a {length}x{length} chessboard is {total_wheat} using np.append method\")\n",
    "\n",
    "calculate_wheat_npappend(length=8)\n",
    "\n",
    "#Calculate total number of wheat on a chessboard using broadcast\n",
    "def calculate_wheat_broadcast(length):\n",
    "    squares = length ** 2\n",
    "    indices = np.arange(squares)\n",
    "    wheat_list = (2 ** indices).astype(np.uint64)\n",
    "    total_wheat = np.sum(wheat_list)\n",
    "    print(f\"Total number of wheat on a {length}x{length} chessboard is {total_wheat} using broadcast method\")\n",
    "\n",
    "calculate_wheat_broadcast(length=8)"
   ]
  },
  {
   "cell_type": "code",
   "execution_count": 118,
   "id": "e5187a23",
   "metadata": {},
   "outputs": [
    {
     "name": "stdout",
     "output_type": "stream",
     "text": [
      "Total number of wheat on a 8x8 chessboard is 1.8446744073709552e+19\n",
      "Total number of wheat on a 8x8 chessboard is 1.8446744073709552e+19\n",
      "Total number of wheat on a 8x8 chessboard is 1.8446744073709552e+19\n",
      "Total number of wheat on a 8x8 chessboard is 1.8446744073709552e+19\n",
      "Total number of wheat on a 8x8 chessboard is 1.8446744073709552e+19\n",
      "Total number of wheat on a 8x8 chessboard is 1.8446744073709552e+19\n",
      "Total number of wheat on a 8x8 chessboard is 1.8446744073709552e+19\n",
      "Total number of wheat on a 8x8 chessboard is 1.8446744073709552e+19\n",
      "Total number of wheat on a 8x8 chessboard is 1.8446744073709552e+19\n",
      "Total number of wheat on a 8x8 chessboard is 1.8446744073709552e+19\n",
      "0.001727399998344481\n",
      "Total number of wheat on a 8x8 chessboard is 18446744073709551615 using np.append method\n",
      "Total number of wheat on a 8x8 chessboard is 18446744073709551615 using np.append method\n",
      "Total number of wheat on a 8x8 chessboard is 18446744073709551615 using np.append method\n",
      "Total number of wheat on a 8x8 chessboard is 18446744073709551615 using np.append method\n",
      "Total number of wheat on a 8x8 chessboard is 18446744073709551615 using np.append method\n",
      "Total number of wheat on a 8x8 chessboard is 18446744073709551615 using np.append method\n",
      "Total number of wheat on a 8x8 chessboard is 18446744073709551615 using np.append method\n",
      "Total number of wheat on a 8x8 chessboard is 18446744073709551615 using np.append method\n",
      "Total number of wheat on a 8x8 chessboard is 18446744073709551615 using np.append method\n",
      "Total number of wheat on a 8x8 chessboard is 18446744073709551615 using np.append method\n",
      "0.10596660000010161\n",
      "Total number of wheat on a 8x8 chessboard is 18446744073709551615 using broadcast method\n",
      "Total number of wheat on a 8x8 chessboard is 18446744073709551615 using broadcast method\n",
      "Total number of wheat on a 8x8 chessboard is 18446744073709551615 using broadcast method\n",
      "Total number of wheat on a 8x8 chessboard is 18446744073709551615 using broadcast method\n",
      "Total number of wheat on a 8x8 chessboard is 18446744073709551615 using broadcast method\n",
      "Total number of wheat on a 8x8 chessboard is 18446744073709551615 using broadcast method\n",
      "Total number of wheat on a 8x8 chessboard is 18446744073709551615 using broadcast method\n",
      "Total number of wheat on a 8x8 chessboard is 18446744073709551615 using broadcast method\n",
      "Total number of wheat on a 8x8 chessboard is 18446744073709551615 using broadcast method\n",
      "Total number of wheat on a 8x8 chessboard is 18446744073709551615 using broadcast method\n",
      "0.0008803999953670427\n"
     ]
    }
   ],
   "source": [
    "#Problem 7:\n",
    "\n",
    "#Problem 2: Calculate total number of wheat on a chessboard\n",
    "def calculate_wheat(length):\n",
    "    squares = length ** 2\n",
    "    num_wheat = 1\n",
    "    count = 1\n",
    "    wheat_list = [1]\n",
    "    while count != squares:\n",
    "        num_wheat *= 2\n",
    "        count += 1\n",
    "        wheat_list.append(num_wheat)\n",
    "    wheat_list = np.array(wheat_list).reshape(8, 8)\n",
    "    total_sum = np.sum(wheat_list)\n",
    "    print(f\"Total number of wheat on a {length}x{length} chessboard is {total_sum}\")\n",
    "    \n",
    "print(timeit.timeit(lambda: calculate_wheat(length=8), number=10))\n",
    "\n",
    "#Calculate total number of wheat on a chessboard using np.append\n",
    "def calculate_wheat_npappend(length):\n",
    "    squares = length ** 2\n",
    "    wheat_list = np.array([1])\n",
    "    for _ in range(squares - 1):\n",
    "        wheat_list = np.append(wheat_list, 2*wheat_list[-1]).astype(np.uint64)\n",
    "    total_wheat = np.sum(wheat_list)\n",
    "    print(f\"Total number of wheat on a {length}x{length} chessboard is {total_wheat} using np.append method\")\n",
    "    \n",
    "print(timeit.timeit(lambda: calculate_wheat_npappend(length=8), number=10))\n",
    "\n",
    "#Calculate total number of wheat on a chessboard using broadcast\n",
    "def calculate_wheat_broadcast(length):\n",
    "    squares = length ** 2\n",
    "    indices = np.arange(squares)\n",
    "    wheat_list = (2 ** indices).astype(np.uint64)\n",
    "    total_wheat = np.sum(wheat_list)\n",
    "    print(f\"Total number of wheat on a {length}x{length} chessboard is {total_wheat} using broadcast method\")\n",
    "\n",
    "print(timeit.timeit(lambda: calculate_wheat_broadcast(length=8), number=10))"
   ]
  },
  {
   "cell_type": "code",
   "execution_count": null,
   "id": "ea2179cd",
   "metadata": {},
   "outputs": [],
   "source": []
  }
 ],
 "metadata": {
  "kernelspec": {
   "display_name": "Python 3 (ipykernel)",
   "language": "python",
   "name": "python3"
  },
  "language_info": {
   "codemirror_mode": {
    "name": "ipython",
    "version": 3
   },
   "file_extension": ".py",
   "mimetype": "text/x-python",
   "name": "python",
   "nbconvert_exporter": "python",
   "pygments_lexer": "ipython3",
   "version": "3.9.13"
  }
 },
 "nbformat": 4,
 "nbformat_minor": 5
}
